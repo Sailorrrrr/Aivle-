{
 "cells": [
  {
   "cell_type": "markdown",
   "metadata": {
    "id": "y1J78TFSRrSA"
   },
   "source": [
    "<center><img src='https://raw.githubusercontent.com/Jangrae/img/master/ml_python.png' width=600/></center>"
   ]
  },
  {
   "cell_type": "markdown",
   "metadata": {},
   "source": [
    "<img src = \"https://github.com/Jangrae/img/blob/master/mobile2.png?raw=true\" width=800 align=\"left\"/>"
   ]
  },
  {
   "cell_type": "markdown",
   "metadata": {
    "id": "elUlK1gCJHGh"
   },
   "source": [
    "# 실습 내용\n",
    "\n",
    "- 다양한 알고리즘으로 모델을 만들고 성능을 예측합니다.\n",
    "- 성능이 좋을 것으로 판단된 모델의 성능을 튜닝합니다.\n",
    "- 튜닝된 모델의 성능을 평가합니다."
   ]
  },
  {
   "cell_type": "markdown",
   "metadata": {
    "id": "IciCQGJy5PO-"
   },
   "source": [
    "# 1.환경 준비\n",
    "\n",
    "- 기본 라이브러리와 대상 데이터를 가져와 이후 과정을 준비합니다."
   ]
  },
  {
   "cell_type": "code",
   "execution_count": 1,
   "metadata": {
    "executionInfo": {
     "elapsed": 10,
     "status": "ok",
     "timestamp": 1641733720381,
     "user": {
      "displayName": "Jangrae Lee",
      "photoUrl": "https://lh3.googleusercontent.com/a-/AOh14Gh1Pd8OuWJU2cv7uTt-fURrgvty7atx_Wtarmx0-A=s64",
      "userId": "08475661575434032088"
     },
     "user_tz": -540
    },
    "id": "jB0l6oqDsG8B"
   },
   "outputs": [],
   "source": [
    "# 라이브러리 불러오기\n",
    "import numpy as np\n",
    "import pandas as pd\n",
    "import matplotlib.pyplot as plt\n",
    "import seaborn as sns\n",
    "\n",
    "%config InlineBackend.figure_format = 'retina'"
   ]
  },
  {
   "cell_type": "code",
   "execution_count": 2,
   "metadata": {
    "executionInfo": {
     "elapsed": 317,
     "status": "ok",
     "timestamp": 1641733720692,
     "user": {
      "displayName": "Jangrae Lee",
      "photoUrl": "https://lh3.googleusercontent.com/a-/AOh14Gh1Pd8OuWJU2cv7uTt-fURrgvty7atx_Wtarmx0-A=s64",
      "userId": "08475661575434032088"
     },
     "user_tz": -540
    },
    "id": "PXqyu_0LsG8C"
   },
   "outputs": [],
   "source": [
    "# 데이터 불러오기\n",
    "path = 'https://raw.githubusercontent.com/jangrae/csv/master/mobile_cust_churn.csv'\n",
    "data = pd.read_csv(path)\n",
    "data['CHURN'] = data['CHURN'].map({'STAY':0, 'LEAVE': 1})"
   ]
  },
  {
   "cell_type": "markdown",
   "metadata": {
    "id": "hDHOQrUbNGSK"
   },
   "source": [
    "# 2.데이터 이해\n",
    "\n",
    "- 분석할 데이터를 충분히 이해할 수 있도록 다양한 탐색 과정을 수행합니다."
   ]
  },
  {
   "cell_type": "code",
   "execution_count": 3,
   "metadata": {
    "colab": {
     "base_uri": "https://localhost:8080/",
     "height": 206
    },
    "executionInfo": {
     "elapsed": 8,
     "status": "ok",
     "timestamp": 1641733720693,
     "user": {
      "displayName": "Jangrae Lee",
      "photoUrl": "https://lh3.googleusercontent.com/a-/AOh14Gh1Pd8OuWJU2cv7uTt-fURrgvty7atx_Wtarmx0-A=s64",
      "userId": "08475661575434032088"
     },
     "user_tz": -540
    },
    "id": "Z1ahypi3irLz",
    "outputId": "c2ebfe3a-0e79-481c-8b5b-5ee6859b5806"
   },
   "outputs": [
    {
     "data": {
      "text/html": [
       "<div>\n",
       "<style scoped>\n",
       "    .dataframe tbody tr th:only-of-type {\n",
       "        vertical-align: middle;\n",
       "    }\n",
       "\n",
       "    .dataframe tbody tr th {\n",
       "        vertical-align: top;\n",
       "    }\n",
       "\n",
       "    .dataframe thead th {\n",
       "        text-align: right;\n",
       "    }\n",
       "</style>\n",
       "<table border=\"1\" class=\"dataframe\">\n",
       "  <thead>\n",
       "    <tr style=\"text-align: right;\">\n",
       "      <th></th>\n",
       "      <th>id</th>\n",
       "      <th>COLLEGE</th>\n",
       "      <th>INCOME</th>\n",
       "      <th>OVERAGE</th>\n",
       "      <th>LEFTOVER</th>\n",
       "      <th>HOUSE</th>\n",
       "      <th>HANDSET_PRICE</th>\n",
       "      <th>OVER_15MINS_CALLS_PER_MONTH</th>\n",
       "      <th>AVERAGE_CALL_DURATION</th>\n",
       "      <th>REPORTED_SATISFACTION</th>\n",
       "      <th>REPORTED_USAGE_LEVEL</th>\n",
       "      <th>CONSIDERING_CHANGE_OF_PLAN</th>\n",
       "      <th>CHURN</th>\n",
       "    </tr>\n",
       "  </thead>\n",
       "  <tbody>\n",
       "    <tr>\n",
       "      <th>0</th>\n",
       "      <td>1</td>\n",
       "      <td>0</td>\n",
       "      <td>31953</td>\n",
       "      <td>0</td>\n",
       "      <td>6</td>\n",
       "      <td>313378</td>\n",
       "      <td>161</td>\n",
       "      <td>0</td>\n",
       "      <td>4</td>\n",
       "      <td>unsat</td>\n",
       "      <td>little</td>\n",
       "      <td>no</td>\n",
       "      <td>0</td>\n",
       "    </tr>\n",
       "    <tr>\n",
       "      <th>1</th>\n",
       "      <td>2</td>\n",
       "      <td>1</td>\n",
       "      <td>36147</td>\n",
       "      <td>0</td>\n",
       "      <td>13</td>\n",
       "      <td>800586</td>\n",
       "      <td>244</td>\n",
       "      <td>0</td>\n",
       "      <td>6</td>\n",
       "      <td>unsat</td>\n",
       "      <td>little</td>\n",
       "      <td>considering</td>\n",
       "      <td>0</td>\n",
       "    </tr>\n",
       "    <tr>\n",
       "      <th>2</th>\n",
       "      <td>3</td>\n",
       "      <td>1</td>\n",
       "      <td>27273</td>\n",
       "      <td>230</td>\n",
       "      <td>0</td>\n",
       "      <td>305049</td>\n",
       "      <td>201</td>\n",
       "      <td>16</td>\n",
       "      <td>15</td>\n",
       "      <td>unsat</td>\n",
       "      <td>very_little</td>\n",
       "      <td>perhaps</td>\n",
       "      <td>0</td>\n",
       "    </tr>\n",
       "    <tr>\n",
       "      <th>3</th>\n",
       "      <td>4</td>\n",
       "      <td>0</td>\n",
       "      <td>120070</td>\n",
       "      <td>38</td>\n",
       "      <td>33</td>\n",
       "      <td>788235</td>\n",
       "      <td>780</td>\n",
       "      <td>3</td>\n",
       "      <td>2</td>\n",
       "      <td>unsat</td>\n",
       "      <td>very_high</td>\n",
       "      <td>considering</td>\n",
       "      <td>1</td>\n",
       "    </tr>\n",
       "    <tr>\n",
       "      <th>4</th>\n",
       "      <td>5</td>\n",
       "      <td>1</td>\n",
       "      <td>29215</td>\n",
       "      <td>208</td>\n",
       "      <td>85</td>\n",
       "      <td>224784</td>\n",
       "      <td>241</td>\n",
       "      <td>21</td>\n",
       "      <td>1</td>\n",
       "      <td>very_unsat</td>\n",
       "      <td>little</td>\n",
       "      <td>never_thought</td>\n",
       "      <td>0</td>\n",
       "    </tr>\n",
       "  </tbody>\n",
       "</table>\n",
       "</div>"
      ],
      "text/plain": [
       "   id  COLLEGE  INCOME  OVERAGE  LEFTOVER   HOUSE  HANDSET_PRICE  \\\n",
       "0   1        0   31953        0         6  313378            161   \n",
       "1   2        1   36147        0        13  800586            244   \n",
       "2   3        1   27273      230         0  305049            201   \n",
       "3   4        0  120070       38        33  788235            780   \n",
       "4   5        1   29215      208        85  224784            241   \n",
       "\n",
       "   OVER_15MINS_CALLS_PER_MONTH  AVERAGE_CALL_DURATION REPORTED_SATISFACTION  \\\n",
       "0                            0                      4                 unsat   \n",
       "1                            0                      6                 unsat   \n",
       "2                           16                     15                 unsat   \n",
       "3                            3                      2                 unsat   \n",
       "4                           21                      1            very_unsat   \n",
       "\n",
       "  REPORTED_USAGE_LEVEL CONSIDERING_CHANGE_OF_PLAN  CHURN  \n",
       "0               little                         no      0  \n",
       "1               little                considering      0  \n",
       "2          very_little                    perhaps      0  \n",
       "3            very_high                considering      1  \n",
       "4               little              never_thought      0  "
      ]
     },
     "execution_count": 3,
     "metadata": {},
     "output_type": "execute_result"
    }
   ],
   "source": [
    "# 데이터 살펴보기\n",
    "data.head()"
   ]
  },
  {
   "cell_type": "markdown",
   "metadata": {},
   "source": [
    "**데이터 설명**\n",
    "\n",
    "- COLLEGE: 대학 졸업여부\n",
    "- INCOME: 연수입\n",
    "- OVERAGE: 월평균 초과사용 시간(분)\n",
    "- LEFTOVER: 월평균 잔여시간비율(%)\n",
    "- HOUSE: 집값\n",
    "- HANDSET_PRICE: 스마트폰 가격\n",
    "- OVER_15MINS_CALLS_PER_MONTH: 월평균 장기통화(15분이상) 횟수\n",
    "- AVERAGE_CALL_DURATION: 평균 통화 시간\n",
    "- REPORTED_SATISFACTION: 만족도 설문조사 결과\n",
    "- REPORTED_USAGE_LEVEL: 사용도 자가진단 결과\n",
    "- CONSIDERING_CHANGE_OF_PLAN: 향후 변경계획 설문조사 결과\n",
    "- CHURN: 이탈(번호이동) 여부"
   ]
  },
  {
   "cell_type": "code",
   "execution_count": 4,
   "metadata": {
    "colab": {
     "base_uri": "https://localhost:8080/",
     "height": 300
    },
    "executionInfo": {
     "elapsed": 287,
     "status": "ok",
     "timestamp": 1641733720974,
     "user": {
      "displayName": "Jangrae Lee",
      "photoUrl": "https://lh3.googleusercontent.com/a-/AOh14Gh1Pd8OuWJU2cv7uTt-fURrgvty7atx_Wtarmx0-A=s64",
      "userId": "08475661575434032088"
     },
     "user_tz": -540
    },
    "id": "HGHlgWSwtSYh",
    "outputId": "b1ec2c59-48c7-44eb-cdd9-bd00c7b35ed4"
   },
   "outputs": [
    {
     "data": {
      "text/html": [
       "<div>\n",
       "<style scoped>\n",
       "    .dataframe tbody tr th:only-of-type {\n",
       "        vertical-align: middle;\n",
       "    }\n",
       "\n",
       "    .dataframe tbody tr th {\n",
       "        vertical-align: top;\n",
       "    }\n",
       "\n",
       "    .dataframe thead th {\n",
       "        text-align: right;\n",
       "    }\n",
       "</style>\n",
       "<table border=\"1\" class=\"dataframe\">\n",
       "  <thead>\n",
       "    <tr style=\"text-align: right;\">\n",
       "      <th></th>\n",
       "      <th>id</th>\n",
       "      <th>COLLEGE</th>\n",
       "      <th>INCOME</th>\n",
       "      <th>OVERAGE</th>\n",
       "      <th>LEFTOVER</th>\n",
       "      <th>HOUSE</th>\n",
       "      <th>HANDSET_PRICE</th>\n",
       "      <th>OVER_15MINS_CALLS_PER_MONTH</th>\n",
       "      <th>AVERAGE_CALL_DURATION</th>\n",
       "      <th>CHURN</th>\n",
       "    </tr>\n",
       "  </thead>\n",
       "  <tbody>\n",
       "    <tr>\n",
       "      <th>count</th>\n",
       "      <td>20000.000000</td>\n",
       "      <td>20000.000000</td>\n",
       "      <td>20000.000000</td>\n",
       "      <td>20000.000000</td>\n",
       "      <td>20000.000000</td>\n",
       "      <td>20000.000000</td>\n",
       "      <td>20000.000000</td>\n",
       "      <td>20000.000000</td>\n",
       "      <td>20000.000000</td>\n",
       "      <td>20000.000000</td>\n",
       "    </tr>\n",
       "    <tr>\n",
       "      <th>mean</th>\n",
       "      <td>10000.500000</td>\n",
       "      <td>0.502400</td>\n",
       "      <td>80281.447750</td>\n",
       "      <td>85.979550</td>\n",
       "      <td>23.898650</td>\n",
       "      <td>493155.264250</td>\n",
       "      <td>389.615100</td>\n",
       "      <td>8.000700</td>\n",
       "      <td>6.002250</td>\n",
       "      <td>0.492600</td>\n",
       "    </tr>\n",
       "    <tr>\n",
       "      <th>std</th>\n",
       "      <td>5773.647028</td>\n",
       "      <td>0.500007</td>\n",
       "      <td>41680.586319</td>\n",
       "      <td>85.992324</td>\n",
       "      <td>26.816645</td>\n",
       "      <td>252407.884692</td>\n",
       "      <td>213.820682</td>\n",
       "      <td>8.925418</td>\n",
       "      <td>4.402558</td>\n",
       "      <td>0.499958</td>\n",
       "    </tr>\n",
       "    <tr>\n",
       "      <th>min</th>\n",
       "      <td>1.000000</td>\n",
       "      <td>0.000000</td>\n",
       "      <td>20007.000000</td>\n",
       "      <td>-2.000000</td>\n",
       "      <td>0.000000</td>\n",
       "      <td>150002.000000</td>\n",
       "      <td>130.000000</td>\n",
       "      <td>0.000000</td>\n",
       "      <td>1.000000</td>\n",
       "      <td>0.000000</td>\n",
       "    </tr>\n",
       "    <tr>\n",
       "      <th>25%</th>\n",
       "      <td>5000.750000</td>\n",
       "      <td>0.000000</td>\n",
       "      <td>42217.000000</td>\n",
       "      <td>0.000000</td>\n",
       "      <td>0.000000</td>\n",
       "      <td>263714.250000</td>\n",
       "      <td>219.000000</td>\n",
       "      <td>1.000000</td>\n",
       "      <td>2.000000</td>\n",
       "      <td>0.000000</td>\n",
       "    </tr>\n",
       "    <tr>\n",
       "      <th>50%</th>\n",
       "      <td>10000.500000</td>\n",
       "      <td>1.000000</td>\n",
       "      <td>75366.500000</td>\n",
       "      <td>59.000000</td>\n",
       "      <td>14.000000</td>\n",
       "      <td>452259.500000</td>\n",
       "      <td>326.000000</td>\n",
       "      <td>4.000000</td>\n",
       "      <td>5.000000</td>\n",
       "      <td>0.000000</td>\n",
       "    </tr>\n",
       "    <tr>\n",
       "      <th>75%</th>\n",
       "      <td>15000.250000</td>\n",
       "      <td>1.000000</td>\n",
       "      <td>115881.750000</td>\n",
       "      <td>179.000000</td>\n",
       "      <td>41.000000</td>\n",
       "      <td>702378.000000</td>\n",
       "      <td>533.250000</td>\n",
       "      <td>15.000000</td>\n",
       "      <td>10.000000</td>\n",
       "      <td>1.000000</td>\n",
       "    </tr>\n",
       "    <tr>\n",
       "      <th>max</th>\n",
       "      <td>20000.000000</td>\n",
       "      <td>1.000000</td>\n",
       "      <td>159983.000000</td>\n",
       "      <td>335.000000</td>\n",
       "      <td>89.000000</td>\n",
       "      <td>999996.000000</td>\n",
       "      <td>899.000000</td>\n",
       "      <td>29.000000</td>\n",
       "      <td>15.000000</td>\n",
       "      <td>1.000000</td>\n",
       "    </tr>\n",
       "  </tbody>\n",
       "</table>\n",
       "</div>"
      ],
      "text/plain": [
       "                 id       COLLEGE         INCOME       OVERAGE      LEFTOVER  \\\n",
       "count  20000.000000  20000.000000   20000.000000  20000.000000  20000.000000   \n",
       "mean   10000.500000      0.502400   80281.447750     85.979550     23.898650   \n",
       "std     5773.647028      0.500007   41680.586319     85.992324     26.816645   \n",
       "min        1.000000      0.000000   20007.000000     -2.000000      0.000000   \n",
       "25%     5000.750000      0.000000   42217.000000      0.000000      0.000000   \n",
       "50%    10000.500000      1.000000   75366.500000     59.000000     14.000000   \n",
       "75%    15000.250000      1.000000  115881.750000    179.000000     41.000000   \n",
       "max    20000.000000      1.000000  159983.000000    335.000000     89.000000   \n",
       "\n",
       "               HOUSE  HANDSET_PRICE  OVER_15MINS_CALLS_PER_MONTH  \\\n",
       "count   20000.000000   20000.000000                 20000.000000   \n",
       "mean   493155.264250     389.615100                     8.000700   \n",
       "std    252407.884692     213.820682                     8.925418   \n",
       "min    150002.000000     130.000000                     0.000000   \n",
       "25%    263714.250000     219.000000                     1.000000   \n",
       "50%    452259.500000     326.000000                     4.000000   \n",
       "75%    702378.000000     533.250000                    15.000000   \n",
       "max    999996.000000     899.000000                    29.000000   \n",
       "\n",
       "       AVERAGE_CALL_DURATION         CHURN  \n",
       "count           20000.000000  20000.000000  \n",
       "mean                6.002250      0.492600  \n",
       "std                 4.402558      0.499958  \n",
       "min                 1.000000      0.000000  \n",
       "25%                 2.000000      0.000000  \n",
       "50%                 5.000000      0.000000  \n",
       "75%                10.000000      1.000000  \n",
       "max                15.000000      1.000000  "
      ]
     },
     "execution_count": 4,
     "metadata": {},
     "output_type": "execute_result"
    }
   ],
   "source": [
    "# 기초통계정보 확인\n",
    "data.describe()"
   ]
  },
  {
   "cell_type": "markdown",
   "metadata": {
    "id": "xyfvv8VLTvgu",
    "tags": []
   },
   "source": [
    "# 3.데이터 준비\n",
    "\n",
    "- 전처리 과정을 통해 머신러닝 알고리즘에 사용할 수 있는 형태의 데이터를 준비합니다."
   ]
  },
  {
   "cell_type": "markdown",
   "metadata": {},
   "source": [
    "**1) 변수 제거**"
   ]
  },
  {
   "cell_type": "code",
   "execution_count": 5,
   "metadata": {},
   "outputs": [
    {
     "name": "stdout",
     "output_type": "stream",
     "text": [
      "<class 'pandas.core.frame.DataFrame'>\n",
      "RangeIndex: 20000 entries, 0 to 19999\n",
      "Data columns (total 12 columns):\n",
      " #   Column                       Non-Null Count  Dtype \n",
      "---  ------                       --------------  ----- \n",
      " 0   COLLEGE                      20000 non-null  int64 \n",
      " 1   INCOME                       20000 non-null  int64 \n",
      " 2   OVERAGE                      20000 non-null  int64 \n",
      " 3   LEFTOVER                     20000 non-null  int64 \n",
      " 4   HOUSE                        20000 non-null  int64 \n",
      " 5   HANDSET_PRICE                20000 non-null  int64 \n",
      " 6   OVER_15MINS_CALLS_PER_MONTH  20000 non-null  int64 \n",
      " 7   AVERAGE_CALL_DURATION        20000 non-null  int64 \n",
      " 8   REPORTED_SATISFACTION        20000 non-null  object\n",
      " 9   REPORTED_USAGE_LEVEL         20000 non-null  object\n",
      " 10  CONSIDERING_CHANGE_OF_PLAN   20000 non-null  object\n",
      " 11  CHURN                        20000 non-null  int64 \n",
      "dtypes: int64(9), object(3)\n",
      "memory usage: 1.8+ MB\n"
     ]
    }
   ],
   "source": [
    "# 제거 대상: id\n",
    "columns = ['id']\n",
    "\n",
    "# 변수 제거\n",
    "data.drop(axis=1,columns=columns, inplace=True)\n",
    "\n",
    "# 확인\n",
    "data.info()"
   ]
  },
  {
   "cell_type": "markdown",
   "metadata": {
    "id": "qbyV3l1m1b03"
   },
   "source": [
    "**2) x, y 분리**"
   ]
  },
  {
   "cell_type": "code",
   "execution_count": 6,
   "metadata": {
    "executionInfo": {
     "elapsed": 11,
     "status": "ok",
     "timestamp": 1641274422284,
     "user": {
      "displayName": "Jangrae Lee",
      "photoUrl": "https://lh3.googleusercontent.com/a-/AOh14Gh1Pd8OuWJU2cv7uTt-fURrgvty7atx_Wtarmx0-A=s64",
      "userId": "08475661575434032088"
     },
     "user_tz": -540
    },
    "id": "B1oiY7x4uO8m"
   },
   "outputs": [],
   "source": [
    "# Target 설정\n",
    "target = 'CHURN'\n",
    "\n",
    "# 데이터 분리\n",
    "X = data.drop(target,axis=1)\n",
    "y = data[target]"
   ]
  },
  {
   "cell_type": "markdown",
   "metadata": {},
   "source": [
    "**3) 가변수화**"
   ]
  },
  {
   "cell_type": "code",
   "execution_count": 7,
   "metadata": {},
   "outputs": [
    {
     "data": {
      "text/html": [
       "<div>\n",
       "<style scoped>\n",
       "    .dataframe tbody tr th:only-of-type {\n",
       "        vertical-align: middle;\n",
       "    }\n",
       "\n",
       "    .dataframe tbody tr th {\n",
       "        vertical-align: top;\n",
       "    }\n",
       "\n",
       "    .dataframe thead th {\n",
       "        text-align: right;\n",
       "    }\n",
       "</style>\n",
       "<table border=\"1\" class=\"dataframe\">\n",
       "  <thead>\n",
       "    <tr style=\"text-align: right;\">\n",
       "      <th></th>\n",
       "      <th>COLLEGE</th>\n",
       "      <th>INCOME</th>\n",
       "      <th>OVERAGE</th>\n",
       "      <th>LEFTOVER</th>\n",
       "      <th>HOUSE</th>\n",
       "      <th>HANDSET_PRICE</th>\n",
       "      <th>OVER_15MINS_CALLS_PER_MONTH</th>\n",
       "      <th>AVERAGE_CALL_DURATION</th>\n",
       "      <th>REPORTED_SATISFACTION_sat</th>\n",
       "      <th>REPORTED_SATISFACTION_unsat</th>\n",
       "      <th>REPORTED_SATISFACTION_very_sat</th>\n",
       "      <th>REPORTED_SATISFACTION_very_unsat</th>\n",
       "      <th>REPORTED_USAGE_LEVEL_high</th>\n",
       "      <th>REPORTED_USAGE_LEVEL_little</th>\n",
       "      <th>REPORTED_USAGE_LEVEL_very_high</th>\n",
       "      <th>REPORTED_USAGE_LEVEL_very_little</th>\n",
       "      <th>CONSIDERING_CHANGE_OF_PLAN_considering</th>\n",
       "      <th>CONSIDERING_CHANGE_OF_PLAN_never_thought</th>\n",
       "      <th>CONSIDERING_CHANGE_OF_PLAN_no</th>\n",
       "      <th>CONSIDERING_CHANGE_OF_PLAN_perhaps</th>\n",
       "    </tr>\n",
       "  </thead>\n",
       "  <tbody>\n",
       "    <tr>\n",
       "      <th>0</th>\n",
       "      <td>0</td>\n",
       "      <td>31953</td>\n",
       "      <td>0</td>\n",
       "      <td>6</td>\n",
       "      <td>313378</td>\n",
       "      <td>161</td>\n",
       "      <td>0</td>\n",
       "      <td>4</td>\n",
       "      <td>0</td>\n",
       "      <td>1</td>\n",
       "      <td>0</td>\n",
       "      <td>0</td>\n",
       "      <td>0</td>\n",
       "      <td>1</td>\n",
       "      <td>0</td>\n",
       "      <td>0</td>\n",
       "      <td>0</td>\n",
       "      <td>0</td>\n",
       "      <td>1</td>\n",
       "      <td>0</td>\n",
       "    </tr>\n",
       "    <tr>\n",
       "      <th>1</th>\n",
       "      <td>1</td>\n",
       "      <td>36147</td>\n",
       "      <td>0</td>\n",
       "      <td>13</td>\n",
       "      <td>800586</td>\n",
       "      <td>244</td>\n",
       "      <td>0</td>\n",
       "      <td>6</td>\n",
       "      <td>0</td>\n",
       "      <td>1</td>\n",
       "      <td>0</td>\n",
       "      <td>0</td>\n",
       "      <td>0</td>\n",
       "      <td>1</td>\n",
       "      <td>0</td>\n",
       "      <td>0</td>\n",
       "      <td>1</td>\n",
       "      <td>0</td>\n",
       "      <td>0</td>\n",
       "      <td>0</td>\n",
       "    </tr>\n",
       "    <tr>\n",
       "      <th>2</th>\n",
       "      <td>1</td>\n",
       "      <td>27273</td>\n",
       "      <td>230</td>\n",
       "      <td>0</td>\n",
       "      <td>305049</td>\n",
       "      <td>201</td>\n",
       "      <td>16</td>\n",
       "      <td>15</td>\n",
       "      <td>0</td>\n",
       "      <td>1</td>\n",
       "      <td>0</td>\n",
       "      <td>0</td>\n",
       "      <td>0</td>\n",
       "      <td>0</td>\n",
       "      <td>0</td>\n",
       "      <td>1</td>\n",
       "      <td>0</td>\n",
       "      <td>0</td>\n",
       "      <td>0</td>\n",
       "      <td>1</td>\n",
       "    </tr>\n",
       "    <tr>\n",
       "      <th>3</th>\n",
       "      <td>0</td>\n",
       "      <td>120070</td>\n",
       "      <td>38</td>\n",
       "      <td>33</td>\n",
       "      <td>788235</td>\n",
       "      <td>780</td>\n",
       "      <td>3</td>\n",
       "      <td>2</td>\n",
       "      <td>0</td>\n",
       "      <td>1</td>\n",
       "      <td>0</td>\n",
       "      <td>0</td>\n",
       "      <td>0</td>\n",
       "      <td>0</td>\n",
       "      <td>1</td>\n",
       "      <td>0</td>\n",
       "      <td>1</td>\n",
       "      <td>0</td>\n",
       "      <td>0</td>\n",
       "      <td>0</td>\n",
       "    </tr>\n",
       "    <tr>\n",
       "      <th>4</th>\n",
       "      <td>1</td>\n",
       "      <td>29215</td>\n",
       "      <td>208</td>\n",
       "      <td>85</td>\n",
       "      <td>224784</td>\n",
       "      <td>241</td>\n",
       "      <td>21</td>\n",
       "      <td>1</td>\n",
       "      <td>0</td>\n",
       "      <td>0</td>\n",
       "      <td>0</td>\n",
       "      <td>1</td>\n",
       "      <td>0</td>\n",
       "      <td>1</td>\n",
       "      <td>0</td>\n",
       "      <td>0</td>\n",
       "      <td>0</td>\n",
       "      <td>1</td>\n",
       "      <td>0</td>\n",
       "      <td>0</td>\n",
       "    </tr>\n",
       "  </tbody>\n",
       "</table>\n",
       "</div>"
      ],
      "text/plain": [
       "   COLLEGE  INCOME  OVERAGE  LEFTOVER   HOUSE  HANDSET_PRICE  \\\n",
       "0        0   31953        0         6  313378            161   \n",
       "1        1   36147        0        13  800586            244   \n",
       "2        1   27273      230         0  305049            201   \n",
       "3        0  120070       38        33  788235            780   \n",
       "4        1   29215      208        85  224784            241   \n",
       "\n",
       "   OVER_15MINS_CALLS_PER_MONTH  AVERAGE_CALL_DURATION  \\\n",
       "0                            0                      4   \n",
       "1                            0                      6   \n",
       "2                           16                     15   \n",
       "3                            3                      2   \n",
       "4                           21                      1   \n",
       "\n",
       "   REPORTED_SATISFACTION_sat  REPORTED_SATISFACTION_unsat  \\\n",
       "0                          0                            1   \n",
       "1                          0                            1   \n",
       "2                          0                            1   \n",
       "3                          0                            1   \n",
       "4                          0                            0   \n",
       "\n",
       "   REPORTED_SATISFACTION_very_sat  REPORTED_SATISFACTION_very_unsat  \\\n",
       "0                               0                                 0   \n",
       "1                               0                                 0   \n",
       "2                               0                                 0   \n",
       "3                               0                                 0   \n",
       "4                               0                                 1   \n",
       "\n",
       "   REPORTED_USAGE_LEVEL_high  REPORTED_USAGE_LEVEL_little  \\\n",
       "0                          0                            1   \n",
       "1                          0                            1   \n",
       "2                          0                            0   \n",
       "3                          0                            0   \n",
       "4                          0                            1   \n",
       "\n",
       "   REPORTED_USAGE_LEVEL_very_high  REPORTED_USAGE_LEVEL_very_little  \\\n",
       "0                               0                                 0   \n",
       "1                               0                                 0   \n",
       "2                               0                                 1   \n",
       "3                               1                                 0   \n",
       "4                               0                                 0   \n",
       "\n",
       "   CONSIDERING_CHANGE_OF_PLAN_considering  \\\n",
       "0                                       0   \n",
       "1                                       1   \n",
       "2                                       0   \n",
       "3                                       1   \n",
       "4                                       0   \n",
       "\n",
       "   CONSIDERING_CHANGE_OF_PLAN_never_thought  CONSIDERING_CHANGE_OF_PLAN_no  \\\n",
       "0                                         0                              1   \n",
       "1                                         0                              0   \n",
       "2                                         0                              0   \n",
       "3                                         0                              0   \n",
       "4                                         1                              0   \n",
       "\n",
       "   CONSIDERING_CHANGE_OF_PLAN_perhaps  \n",
       "0                                   0  \n",
       "1                                   0  \n",
       "2                                   1  \n",
       "3                                   0  \n",
       "4                                   0  "
      ]
     },
     "execution_count": 7,
     "metadata": {},
     "output_type": "execute_result"
    }
   ],
   "source": [
    "# 가변수화 대상: REPORTED_SATISFACTION, REPORTED_USAGE_LEVEL, CONSIDERING_CHANGE_OF_PLAN\n",
    "dumm_cols = ['REPORTED_SATISFACTION', 'REPORTED_USAGE_LEVEL', 'CONSIDERING_CHANGE_OF_PLAN']\n",
    "\n",
    "# 가변수화\n",
    "X = pd.get_dummies(X,columns=dumm_cols,drop_first=True)\n",
    "\n",
    "# 확인\n",
    "X.head()"
   ]
  },
  {
   "cell_type": "markdown",
   "metadata": {},
   "source": [
    "**4) 정규화**"
   ]
  },
  {
   "cell_type": "code",
   "execution_count": 8,
   "metadata": {
    "executionInfo": {
     "elapsed": 3,
     "status": "ok",
     "timestamp": 1642768854610,
     "user": {
      "displayName": "Jangrae Lee",
      "photoUrl": "https://lh3.googleusercontent.com/a-/AOh14Gh1Pd8OuWJU2cv7uTt-fURrgvty7atx_Wtarmx0-A=s64",
      "userId": "08475661575434032088"
     },
     "user_tz": -540
    },
    "id": "ErKzbKJIFL2B"
   },
   "outputs": [
    {
     "data": {
      "text/html": [
       "<div>\n",
       "<style scoped>\n",
       "    .dataframe tbody tr th:only-of-type {\n",
       "        vertical-align: middle;\n",
       "    }\n",
       "\n",
       "    .dataframe tbody tr th {\n",
       "        vertical-align: top;\n",
       "    }\n",
       "\n",
       "    .dataframe thead th {\n",
       "        text-align: right;\n",
       "    }\n",
       "</style>\n",
       "<table border=\"1\" class=\"dataframe\">\n",
       "  <thead>\n",
       "    <tr style=\"text-align: right;\">\n",
       "      <th></th>\n",
       "      <th>COLLEGE</th>\n",
       "      <th>INCOME</th>\n",
       "      <th>OVERAGE</th>\n",
       "      <th>LEFTOVER</th>\n",
       "      <th>HOUSE</th>\n",
       "      <th>HANDSET_PRICE</th>\n",
       "      <th>OVER_15MINS_CALLS_PER_MONTH</th>\n",
       "      <th>AVERAGE_CALL_DURATION</th>\n",
       "      <th>REPORTED_SATISFACTION_sat</th>\n",
       "      <th>REPORTED_SATISFACTION_unsat</th>\n",
       "      <th>REPORTED_SATISFACTION_very_sat</th>\n",
       "      <th>REPORTED_SATISFACTION_very_unsat</th>\n",
       "      <th>REPORTED_USAGE_LEVEL_high</th>\n",
       "      <th>REPORTED_USAGE_LEVEL_little</th>\n",
       "      <th>REPORTED_USAGE_LEVEL_very_high</th>\n",
       "      <th>REPORTED_USAGE_LEVEL_very_little</th>\n",
       "      <th>CONSIDERING_CHANGE_OF_PLAN_considering</th>\n",
       "      <th>CONSIDERING_CHANGE_OF_PLAN_never_thought</th>\n",
       "      <th>CONSIDERING_CHANGE_OF_PLAN_no</th>\n",
       "      <th>CONSIDERING_CHANGE_OF_PLAN_perhaps</th>\n",
       "    </tr>\n",
       "  </thead>\n",
       "  <tbody>\n",
       "    <tr>\n",
       "      <th>0</th>\n",
       "      <td>0.0</td>\n",
       "      <td>0.085343</td>\n",
       "      <td>0.005935</td>\n",
       "      <td>0.067416</td>\n",
       "      <td>0.192208</td>\n",
       "      <td>0.040312</td>\n",
       "      <td>0.000000</td>\n",
       "      <td>0.214286</td>\n",
       "      <td>0.0</td>\n",
       "      <td>1.0</td>\n",
       "      <td>0.0</td>\n",
       "      <td>0.0</td>\n",
       "      <td>0.0</td>\n",
       "      <td>1.0</td>\n",
       "      <td>0.0</td>\n",
       "      <td>0.0</td>\n",
       "      <td>0.0</td>\n",
       "      <td>0.0</td>\n",
       "      <td>1.0</td>\n",
       "      <td>0.0</td>\n",
       "    </tr>\n",
       "    <tr>\n",
       "      <th>1</th>\n",
       "      <td>1.0</td>\n",
       "      <td>0.115305</td>\n",
       "      <td>0.005935</td>\n",
       "      <td>0.146067</td>\n",
       "      <td>0.765398</td>\n",
       "      <td>0.148244</td>\n",
       "      <td>0.000000</td>\n",
       "      <td>0.357143</td>\n",
       "      <td>0.0</td>\n",
       "      <td>1.0</td>\n",
       "      <td>0.0</td>\n",
       "      <td>0.0</td>\n",
       "      <td>0.0</td>\n",
       "      <td>1.0</td>\n",
       "      <td>0.0</td>\n",
       "      <td>0.0</td>\n",
       "      <td>1.0</td>\n",
       "      <td>0.0</td>\n",
       "      <td>0.0</td>\n",
       "      <td>0.0</td>\n",
       "    </tr>\n",
       "    <tr>\n",
       "      <th>2</th>\n",
       "      <td>1.0</td>\n",
       "      <td>0.051909</td>\n",
       "      <td>0.688427</td>\n",
       "      <td>0.000000</td>\n",
       "      <td>0.182410</td>\n",
       "      <td>0.092328</td>\n",
       "      <td>0.551724</td>\n",
       "      <td>1.000000</td>\n",
       "      <td>0.0</td>\n",
       "      <td>1.0</td>\n",
       "      <td>0.0</td>\n",
       "      <td>0.0</td>\n",
       "      <td>0.0</td>\n",
       "      <td>0.0</td>\n",
       "      <td>0.0</td>\n",
       "      <td>1.0</td>\n",
       "      <td>0.0</td>\n",
       "      <td>0.0</td>\n",
       "      <td>0.0</td>\n",
       "      <td>1.0</td>\n",
       "    </tr>\n",
       "    <tr>\n",
       "      <th>3</th>\n",
       "      <td>0.0</td>\n",
       "      <td>0.714858</td>\n",
       "      <td>0.118694</td>\n",
       "      <td>0.370787</td>\n",
       "      <td>0.750868</td>\n",
       "      <td>0.845254</td>\n",
       "      <td>0.103448</td>\n",
       "      <td>0.071429</td>\n",
       "      <td>0.0</td>\n",
       "      <td>1.0</td>\n",
       "      <td>0.0</td>\n",
       "      <td>0.0</td>\n",
       "      <td>0.0</td>\n",
       "      <td>0.0</td>\n",
       "      <td>1.0</td>\n",
       "      <td>0.0</td>\n",
       "      <td>1.0</td>\n",
       "      <td>0.0</td>\n",
       "      <td>0.0</td>\n",
       "      <td>0.0</td>\n",
       "    </tr>\n",
       "    <tr>\n",
       "      <th>4</th>\n",
       "      <td>1.0</td>\n",
       "      <td>0.065783</td>\n",
       "      <td>0.623145</td>\n",
       "      <td>0.955056</td>\n",
       "      <td>0.087979</td>\n",
       "      <td>0.144343</td>\n",
       "      <td>0.724138</td>\n",
       "      <td>0.000000</td>\n",
       "      <td>0.0</td>\n",
       "      <td>0.0</td>\n",
       "      <td>0.0</td>\n",
       "      <td>1.0</td>\n",
       "      <td>0.0</td>\n",
       "      <td>1.0</td>\n",
       "      <td>0.0</td>\n",
       "      <td>0.0</td>\n",
       "      <td>0.0</td>\n",
       "      <td>1.0</td>\n",
       "      <td>0.0</td>\n",
       "      <td>0.0</td>\n",
       "    </tr>\n",
       "    <tr>\n",
       "      <th>...</th>\n",
       "      <td>...</td>\n",
       "      <td>...</td>\n",
       "      <td>...</td>\n",
       "      <td>...</td>\n",
       "      <td>...</td>\n",
       "      <td>...</td>\n",
       "      <td>...</td>\n",
       "      <td>...</td>\n",
       "      <td>...</td>\n",
       "      <td>...</td>\n",
       "      <td>...</td>\n",
       "      <td>...</td>\n",
       "      <td>...</td>\n",
       "      <td>...</td>\n",
       "      <td>...</td>\n",
       "      <td>...</td>\n",
       "      <td>...</td>\n",
       "      <td>...</td>\n",
       "      <td>...</td>\n",
       "      <td>...</td>\n",
       "    </tr>\n",
       "    <tr>\n",
       "      <th>19995</th>\n",
       "      <td>0.0</td>\n",
       "      <td>0.951913</td>\n",
       "      <td>0.005935</td>\n",
       "      <td>0.258427</td>\n",
       "      <td>0.256944</td>\n",
       "      <td>0.607282</td>\n",
       "      <td>0.034483</td>\n",
       "      <td>0.357143</td>\n",
       "      <td>0.0</td>\n",
       "      <td>0.0</td>\n",
       "      <td>1.0</td>\n",
       "      <td>0.0</td>\n",
       "      <td>0.0</td>\n",
       "      <td>1.0</td>\n",
       "      <td>0.0</td>\n",
       "      <td>0.0</td>\n",
       "      <td>0.0</td>\n",
       "      <td>0.0</td>\n",
       "      <td>0.0</td>\n",
       "      <td>0.0</td>\n",
       "    </tr>\n",
       "    <tr>\n",
       "      <th>19996</th>\n",
       "      <td>1.0</td>\n",
       "      <td>0.622385</td>\n",
       "      <td>0.216617</td>\n",
       "      <td>0.921348</td>\n",
       "      <td>0.102818</td>\n",
       "      <td>0.622887</td>\n",
       "      <td>0.172414</td>\n",
       "      <td>0.071429</td>\n",
       "      <td>0.0</td>\n",
       "      <td>0.0</td>\n",
       "      <td>1.0</td>\n",
       "      <td>0.0</td>\n",
       "      <td>0.0</td>\n",
       "      <td>0.0</td>\n",
       "      <td>0.0</td>\n",
       "      <td>1.0</td>\n",
       "      <td>0.0</td>\n",
       "      <td>0.0</td>\n",
       "      <td>1.0</td>\n",
       "      <td>0.0</td>\n",
       "    </tr>\n",
       "    <tr>\n",
       "      <th>19997</th>\n",
       "      <td>0.0</td>\n",
       "      <td>0.418086</td>\n",
       "      <td>0.005935</td>\n",
       "      <td>0.741573</td>\n",
       "      <td>0.026573</td>\n",
       "      <td>0.188557</td>\n",
       "      <td>0.000000</td>\n",
       "      <td>0.071429</td>\n",
       "      <td>0.0</td>\n",
       "      <td>1.0</td>\n",
       "      <td>0.0</td>\n",
       "      <td>0.0</td>\n",
       "      <td>0.0</td>\n",
       "      <td>0.0</td>\n",
       "      <td>1.0</td>\n",
       "      <td>0.0</td>\n",
       "      <td>1.0</td>\n",
       "      <td>0.0</td>\n",
       "      <td>0.0</td>\n",
       "      <td>0.0</td>\n",
       "    </tr>\n",
       "    <tr>\n",
       "      <th>19998</th>\n",
       "      <td>0.0</td>\n",
       "      <td>0.419122</td>\n",
       "      <td>0.145401</td>\n",
       "      <td>0.460674</td>\n",
       "      <td>0.496949</td>\n",
       "      <td>0.205462</td>\n",
       "      <td>0.137931</td>\n",
       "      <td>0.071429</td>\n",
       "      <td>0.0</td>\n",
       "      <td>0.0</td>\n",
       "      <td>0.0</td>\n",
       "      <td>1.0</td>\n",
       "      <td>0.0</td>\n",
       "      <td>1.0</td>\n",
       "      <td>0.0</td>\n",
       "      <td>0.0</td>\n",
       "      <td>1.0</td>\n",
       "      <td>0.0</td>\n",
       "      <td>0.0</td>\n",
       "      <td>0.0</td>\n",
       "    </tr>\n",
       "    <tr>\n",
       "      <th>19999</th>\n",
       "      <td>0.0</td>\n",
       "      <td>0.747914</td>\n",
       "      <td>0.005935</td>\n",
       "      <td>0.000000</td>\n",
       "      <td>0.818327</td>\n",
       "      <td>0.881664</td>\n",
       "      <td>0.827586</td>\n",
       "      <td>0.928571</td>\n",
       "      <td>0.0</td>\n",
       "      <td>1.0</td>\n",
       "      <td>0.0</td>\n",
       "      <td>0.0</td>\n",
       "      <td>1.0</td>\n",
       "      <td>0.0</td>\n",
       "      <td>0.0</td>\n",
       "      <td>0.0</td>\n",
       "      <td>0.0</td>\n",
       "      <td>0.0</td>\n",
       "      <td>0.0</td>\n",
       "      <td>0.0</td>\n",
       "    </tr>\n",
       "  </tbody>\n",
       "</table>\n",
       "<p>20000 rows × 20 columns</p>\n",
       "</div>"
      ],
      "text/plain": [
       "       COLLEGE    INCOME   OVERAGE  LEFTOVER     HOUSE  HANDSET_PRICE  \\\n",
       "0          0.0  0.085343  0.005935  0.067416  0.192208       0.040312   \n",
       "1          1.0  0.115305  0.005935  0.146067  0.765398       0.148244   \n",
       "2          1.0  0.051909  0.688427  0.000000  0.182410       0.092328   \n",
       "3          0.0  0.714858  0.118694  0.370787  0.750868       0.845254   \n",
       "4          1.0  0.065783  0.623145  0.955056  0.087979       0.144343   \n",
       "...        ...       ...       ...       ...       ...            ...   \n",
       "19995      0.0  0.951913  0.005935  0.258427  0.256944       0.607282   \n",
       "19996      1.0  0.622385  0.216617  0.921348  0.102818       0.622887   \n",
       "19997      0.0  0.418086  0.005935  0.741573  0.026573       0.188557   \n",
       "19998      0.0  0.419122  0.145401  0.460674  0.496949       0.205462   \n",
       "19999      0.0  0.747914  0.005935  0.000000  0.818327       0.881664   \n",
       "\n",
       "       OVER_15MINS_CALLS_PER_MONTH  AVERAGE_CALL_DURATION  \\\n",
       "0                         0.000000               0.214286   \n",
       "1                         0.000000               0.357143   \n",
       "2                         0.551724               1.000000   \n",
       "3                         0.103448               0.071429   \n",
       "4                         0.724138               0.000000   \n",
       "...                            ...                    ...   \n",
       "19995                     0.034483               0.357143   \n",
       "19996                     0.172414               0.071429   \n",
       "19997                     0.000000               0.071429   \n",
       "19998                     0.137931               0.071429   \n",
       "19999                     0.827586               0.928571   \n",
       "\n",
       "       REPORTED_SATISFACTION_sat  REPORTED_SATISFACTION_unsat  \\\n",
       "0                            0.0                          1.0   \n",
       "1                            0.0                          1.0   \n",
       "2                            0.0                          1.0   \n",
       "3                            0.0                          1.0   \n",
       "4                            0.0                          0.0   \n",
       "...                          ...                          ...   \n",
       "19995                        0.0                          0.0   \n",
       "19996                        0.0                          0.0   \n",
       "19997                        0.0                          1.0   \n",
       "19998                        0.0                          0.0   \n",
       "19999                        0.0                          1.0   \n",
       "\n",
       "       REPORTED_SATISFACTION_very_sat  REPORTED_SATISFACTION_very_unsat  \\\n",
       "0                                 0.0                               0.0   \n",
       "1                                 0.0                               0.0   \n",
       "2                                 0.0                               0.0   \n",
       "3                                 0.0                               0.0   \n",
       "4                                 0.0                               1.0   \n",
       "...                               ...                               ...   \n",
       "19995                             1.0                               0.0   \n",
       "19996                             1.0                               0.0   \n",
       "19997                             0.0                               0.0   \n",
       "19998                             0.0                               1.0   \n",
       "19999                             0.0                               0.0   \n",
       "\n",
       "       REPORTED_USAGE_LEVEL_high  REPORTED_USAGE_LEVEL_little  \\\n",
       "0                            0.0                          1.0   \n",
       "1                            0.0                          1.0   \n",
       "2                            0.0                          0.0   \n",
       "3                            0.0                          0.0   \n",
       "4                            0.0                          1.0   \n",
       "...                          ...                          ...   \n",
       "19995                        0.0                          1.0   \n",
       "19996                        0.0                          0.0   \n",
       "19997                        0.0                          0.0   \n",
       "19998                        0.0                          1.0   \n",
       "19999                        1.0                          0.0   \n",
       "\n",
       "       REPORTED_USAGE_LEVEL_very_high  REPORTED_USAGE_LEVEL_very_little  \\\n",
       "0                                 0.0                               0.0   \n",
       "1                                 0.0                               0.0   \n",
       "2                                 0.0                               1.0   \n",
       "3                                 1.0                               0.0   \n",
       "4                                 0.0                               0.0   \n",
       "...                               ...                               ...   \n",
       "19995                             0.0                               0.0   \n",
       "19996                             0.0                               1.0   \n",
       "19997                             1.0                               0.0   \n",
       "19998                             0.0                               0.0   \n",
       "19999                             0.0                               0.0   \n",
       "\n",
       "       CONSIDERING_CHANGE_OF_PLAN_considering  \\\n",
       "0                                         0.0   \n",
       "1                                         1.0   \n",
       "2                                         0.0   \n",
       "3                                         1.0   \n",
       "4                                         0.0   \n",
       "...                                       ...   \n",
       "19995                                     0.0   \n",
       "19996                                     0.0   \n",
       "19997                                     1.0   \n",
       "19998                                     1.0   \n",
       "19999                                     0.0   \n",
       "\n",
       "       CONSIDERING_CHANGE_OF_PLAN_never_thought  \\\n",
       "0                                           0.0   \n",
       "1                                           0.0   \n",
       "2                                           0.0   \n",
       "3                                           0.0   \n",
       "4                                           1.0   \n",
       "...                                         ...   \n",
       "19995                                       0.0   \n",
       "19996                                       0.0   \n",
       "19997                                       0.0   \n",
       "19998                                       0.0   \n",
       "19999                                       0.0   \n",
       "\n",
       "       CONSIDERING_CHANGE_OF_PLAN_no  CONSIDERING_CHANGE_OF_PLAN_perhaps  \n",
       "0                                1.0                                 0.0  \n",
       "1                                0.0                                 0.0  \n",
       "2                                0.0                                 1.0  \n",
       "3                                0.0                                 0.0  \n",
       "4                                0.0                                 0.0  \n",
       "...                              ...                                 ...  \n",
       "19995                            0.0                                 0.0  \n",
       "19996                            1.0                                 0.0  \n",
       "19997                            0.0                                 0.0  \n",
       "19998                            0.0                                 0.0  \n",
       "19999                            0.0                                 0.0  \n",
       "\n",
       "[20000 rows x 20 columns]"
      ]
     },
     "execution_count": 8,
     "metadata": {},
     "output_type": "execute_result"
    }
   ],
   "source": [
    "# 정규화\n",
    "X = (X - X.min())/(X.max()-X.min())\n",
    "\n",
    "# 확인\n",
    "X"
   ]
  },
  {
   "cell_type": "markdown",
   "metadata": {
    "id": "JyUW2Hxm1hIW"
   },
   "source": [
    "**5) 학습용, 평가용 데이터 분리**"
   ]
  },
  {
   "cell_type": "code",
   "execution_count": 9,
   "metadata": {
    "executionInfo": {
     "elapsed": 763,
     "status": "ok",
     "timestamp": 1641274423037,
     "user": {
      "displayName": "Jangrae Lee",
      "photoUrl": "https://lh3.googleusercontent.com/a-/AOh14Gh1Pd8OuWJU2cv7uTt-fURrgvty7atx_Wtarmx0-A=s64",
      "userId": "08475661575434032088"
     },
     "user_tz": -540
    },
    "id": "vGgJGFX5ZAn8"
   },
   "outputs": [],
   "source": [
    "# 모듈 불러오기\n",
    "from sklearn.model_selection import train_test_split\n",
    "\n",
    "# 7:3으로 분리\n",
    "X_train, X_test, y_train, y_test = train_test_split(X,y,test_size=0.3,random_state=2022)"
   ]
  },
  {
   "cell_type": "markdown",
   "metadata": {
    "id": "BYr1vtpd8uw4",
    "tags": []
   },
   "source": [
    "# 4.성능 예측\n",
    "\n",
    "- 여러 알고리즘으로 모델을 만들고 K-Fold CV로 성능을 예측합니다.\n",
    "- 하이퍼파라미터를 설정하지 않고 진행합니다.\n",
    "- 각 모델의 성능 정보를 수집해 마지막에 비교합니다."
   ]
  },
  {
   "cell_type": "code",
   "execution_count": null,
   "metadata": {},
   "outputs": [],
   "source": [
    "# xgboost 설치\n",
    "# pip install xgboost"
   ]
  },
  {
   "cell_type": "code",
   "execution_count": null,
   "metadata": {},
   "outputs": [],
   "source": [
    "# lightgbm 설치\n",
    "# pip install lightgbm"
   ]
  },
  {
   "cell_type": "markdown",
   "metadata": {},
   "source": [
    "- 이후 사용할 함수를 모두 불러옵니다."
   ]
  },
  {
   "cell_type": "code",
   "execution_count": 10,
   "metadata": {},
   "outputs": [],
   "source": [
    "# 불러오기\n",
    "from sklearn.neighbors import KNeighborsClassifier\n",
    "from sklearn.tree import DecisionTreeClassifier\n",
    "from sklearn.linear_model import LogisticRegression\n",
    "from sklearn.ensemble import RandomForestClassifier\n",
    "from xgboost import XGBClassifier\n",
    "from lightgbm import LGBMClassifier\n",
    "\n",
    "from sklearn.model_selection import cross_val_score, GridSearchCV\n",
    "from sklearn.metrics import confusion_matrix, classification_report"
   ]
  },
  {
   "cell_type": "markdown",
   "metadata": {
    "id": "9pqwajKFyK4F"
   },
   "source": [
    "**1) KNN**\n",
    "\n",
    "- KNN 알고리즘으로 모델링하고 K-Fold CV로 성능을 검증합니다."
   ]
  },
  {
   "cell_type": "code",
   "execution_count": 11,
   "metadata": {
    "colab": {
     "base_uri": "https://localhost:8080/"
    },
    "executionInfo": {
     "elapsed": 24,
     "status": "ok",
     "timestamp": 1641475869550,
     "user": {
      "displayName": "Jangrae Lee",
      "photoUrl": "https://lh3.googleusercontent.com/a-/AOh14Gh1Pd8OuWJU2cv7uTt-fURrgvty7atx_Wtarmx0-A=s64",
      "userId": "08475661575434032088"
     },
     "user_tz": -540
    },
    "id": "ziotuce6yK4G",
    "outputId": "ce4aa06d-d378-48c0-c831-26b66b65d9df"
   },
   "outputs": [],
   "source": [
    "# 선언하기\n",
    "kn = KNeighborsClassifier()"
   ]
  },
  {
   "cell_type": "code",
   "execution_count": 12,
   "metadata": {
    "id": "J-zashLGyK4H"
   },
   "outputs": [],
   "source": [
    "# 성능예측\n",
    "cv_score = cross_val_score(kn,X_train,y_train,cv=10)"
   ]
  },
  {
   "cell_type": "code",
   "execution_count": 13,
   "metadata": {},
   "outputs": [
    {
     "name": "stdout",
     "output_type": "stream",
     "text": [
      "0.6037857142857143\n"
     ]
    }
   ],
   "source": [
    "# 결과확인\n",
    "print(cv_score.mean())"
   ]
  },
  {
   "cell_type": "code",
   "execution_count": 14,
   "metadata": {
    "colab": {
     "base_uri": "https://localhost:8080/"
    },
    "executionInfo": {
     "elapsed": 22,
     "status": "ok",
     "timestamp": 1641475869551,
     "user": {
      "displayName": "Jangrae Lee",
      "photoUrl": "https://lh3.googleusercontent.com/a-/AOh14Gh1Pd8OuWJU2cv7uTt-fURrgvty7atx_Wtarmx0-A=s64",
      "userId": "08475661575434032088"
     },
     "user_tz": -540
    },
    "id": "2KMvCx_-yK4H",
    "outputId": "cadee159-ae22-418c-c940-b2dbfb7c986c"
   },
   "outputs": [],
   "source": [
    "# 결과수집\n",
    "result = {}\n",
    "result['KNN'] = cv_score.mean()"
   ]
  },
  {
   "cell_type": "markdown",
   "metadata": {
    "id": "_2Dzy1phyWRM"
   },
   "source": [
    "**2) Decision Tree**\n",
    "\n",
    "- Decision Tree 알고리즘으로 모델링하고 K-Fold CV로 성능을 검증합니다."
   ]
  },
  {
   "cell_type": "code",
   "execution_count": 17,
   "metadata": {},
   "outputs": [],
   "source": [
    "# 선언하기\n",
    "dt = DecisionTreeClassifier(random_state=2022)"
   ]
  },
  {
   "cell_type": "code",
   "execution_count": 18,
   "metadata": {
    "id": "J-zashLGyK4H"
   },
   "outputs": [],
   "source": [
    "# 성능예측\n",
    "cv_score = cross_val_score(dt,X_train,y_train,cv=10)"
   ]
  },
  {
   "cell_type": "code",
   "execution_count": 19,
   "metadata": {},
   "outputs": [
    {
     "name": "stdout",
     "output_type": "stream",
     "text": [
      "0.609\n"
     ]
    }
   ],
   "source": [
    "# 결과확인\n",
    "print(cv_score.mean())"
   ]
  },
  {
   "cell_type": "code",
   "execution_count": 20,
   "metadata": {
    "colab": {
     "base_uri": "https://localhost:8080/"
    },
    "executionInfo": {
     "elapsed": 22,
     "status": "ok",
     "timestamp": 1641475869551,
     "user": {
      "displayName": "Jangrae Lee",
      "photoUrl": "https://lh3.googleusercontent.com/a-/AOh14Gh1Pd8OuWJU2cv7uTt-fURrgvty7atx_Wtarmx0-A=s64",
      "userId": "08475661575434032088"
     },
     "user_tz": -540
    },
    "id": "2KMvCx_-yK4H",
    "outputId": "cadee159-ae22-418c-c940-b2dbfb7c986c"
   },
   "outputs": [],
   "source": [
    "# 결과수집\n",
    "result['Decision Tree'] = cv_score.mean()"
   ]
  },
  {
   "cell_type": "markdown",
   "metadata": {
    "id": "_2Dzy1phyWRM"
   },
   "source": [
    "**3) Logistic Regression**\n",
    "\n",
    "- Logistic Regression 알고리즘으로 모델링하고 K-Fold CV로 성능을 검증합니다."
   ]
  },
  {
   "cell_type": "code",
   "execution_count": 21,
   "metadata": {},
   "outputs": [],
   "source": [
    "# 선언하기\n",
    "lr = LogisticRegression()"
   ]
  },
  {
   "cell_type": "code",
   "execution_count": 22,
   "metadata": {
    "id": "J-zashLGyK4H"
   },
   "outputs": [],
   "source": [
    "# 성능예측\n",
    "cv_score = cross_val_score(lr,X_train,y_train,cv=10)"
   ]
  },
  {
   "cell_type": "code",
   "execution_count": 24,
   "metadata": {},
   "outputs": [
    {
     "data": {
      "text/plain": [
       "0.6388571428571428"
      ]
     },
     "execution_count": 24,
     "metadata": {},
     "output_type": "execute_result"
    }
   ],
   "source": [
    "# 결과확인\n",
    "cv_score.mean()"
   ]
  },
  {
   "cell_type": "code",
   "execution_count": null,
   "metadata": {
    "colab": {
     "base_uri": "https://localhost:8080/"
    },
    "executionInfo": {
     "elapsed": 22,
     "status": "ok",
     "timestamp": 1641475869551,
     "user": {
      "displayName": "Jangrae Lee",
      "photoUrl": "https://lh3.googleusercontent.com/a-/AOh14Gh1Pd8OuWJU2cv7uTt-fURrgvty7atx_Wtarmx0-A=s64",
      "userId": "08475661575434032088"
     },
     "user_tz": -540
    },
    "id": "2KMvCx_-yK4H",
    "outputId": "cadee159-ae22-418c-c940-b2dbfb7c986c"
   },
   "outputs": [],
   "source": [
    "# 결과수집\n",
    "result['Logistic Regression'] = cv_score.mean()"
   ]
  },
  {
   "cell_type": "markdown",
   "metadata": {
    "id": "b0crO5W_ygXk"
   },
   "source": [
    "**4) Random Forest**\n",
    "\n",
    "- Random Forest 알고리즘으로 모델링하고 K-Fold CV로 성능을 검증합니다."
   ]
  },
  {
   "cell_type": "code",
   "execution_count": 29,
   "metadata": {},
   "outputs": [],
   "source": [
    "# 선언하기\n",
    "rf = RandomForestClassifier(random_state=2022)"
   ]
  },
  {
   "cell_type": "code",
   "execution_count": 30,
   "metadata": {
    "id": "J-zashLGyK4H"
   },
   "outputs": [],
   "source": [
    "# 성능예측\n",
    "cv_score = cross_val_score(rf,X_train,y_train,cv=10)"
   ]
  },
  {
   "cell_type": "code",
   "execution_count": 31,
   "metadata": {},
   "outputs": [
    {
     "data": {
      "text/plain": [
       "0.6860714285714284"
      ]
     },
     "execution_count": 31,
     "metadata": {},
     "output_type": "execute_result"
    }
   ],
   "source": [
    "# 결과확인\n",
    "cv_score.mean()"
   ]
  },
  {
   "cell_type": "code",
   "execution_count": 32,
   "metadata": {
    "colab": {
     "base_uri": "https://localhost:8080/"
    },
    "executionInfo": {
     "elapsed": 22,
     "status": "ok",
     "timestamp": 1641475869551,
     "user": {
      "displayName": "Jangrae Lee",
      "photoUrl": "https://lh3.googleusercontent.com/a-/AOh14Gh1Pd8OuWJU2cv7uTt-fURrgvty7atx_Wtarmx0-A=s64",
      "userId": "08475661575434032088"
     },
     "user_tz": -540
    },
    "id": "2KMvCx_-yK4H",
    "outputId": "cadee159-ae22-418c-c940-b2dbfb7c986c"
   },
   "outputs": [],
   "source": [
    "# 결과수집\n",
    "result['Random Forest'] = cv_score.mean()"
   ]
  },
  {
   "cell_type": "markdown",
   "metadata": {
    "id": "OfBvePtkys70"
   },
   "source": [
    "**5) XGBoost**\n",
    "\n",
    "- XGBoost 알고리즘으로 모델링하고 K-Fold CV로 성능을 검증합니다."
   ]
  },
  {
   "cell_type": "code",
   "execution_count": 35,
   "metadata": {},
   "outputs": [],
   "source": [
    "# 선언하기\n",
    "xgb = XGBClassifier(random_state=2022)"
   ]
  },
  {
   "cell_type": "code",
   "execution_count": 36,
   "metadata": {
    "id": "J-zashLGyK4H"
   },
   "outputs": [],
   "source": [
    "# 성능예측\n",
    "cv_score = cross_val_score(xgb, X_train, y_train, cv=10)"
   ]
  },
  {
   "cell_type": "code",
   "execution_count": 38,
   "metadata": {},
   "outputs": [
    {
     "data": {
      "text/plain": [
       "0.6802142857142857"
      ]
     },
     "execution_count": 38,
     "metadata": {},
     "output_type": "execute_result"
    }
   ],
   "source": [
    "# 결과확인\n",
    "cv_score.mean()"
   ]
  },
  {
   "cell_type": "code",
   "execution_count": 39,
   "metadata": {
    "colab": {
     "base_uri": "https://localhost:8080/"
    },
    "executionInfo": {
     "elapsed": 22,
     "status": "ok",
     "timestamp": 1641475869551,
     "user": {
      "displayName": "Jangrae Lee",
      "photoUrl": "https://lh3.googleusercontent.com/a-/AOh14Gh1Pd8OuWJU2cv7uTt-fURrgvty7atx_Wtarmx0-A=s64",
      "userId": "08475661575434032088"
     },
     "user_tz": -540
    },
    "id": "2KMvCx_-yK4H",
    "outputId": "cadee159-ae22-418c-c940-b2dbfb7c986c"
   },
   "outputs": [],
   "source": [
    "# 결과수집\n",
    "result['XGBoost'] = cv_score.mean()"
   ]
  },
  {
   "cell_type": "markdown",
   "metadata": {
    "id": "OfBvePtkys70"
   },
   "source": [
    "**6) LightGBM**\n",
    "\n",
    "- LightGBM 알고리즘으로 모델링하고 K-Fold CV로 성능을 검증합니다."
   ]
  },
  {
   "cell_type": "code",
   "execution_count": 42,
   "metadata": {},
   "outputs": [],
   "source": [
    "# 선언하기\n",
    "lgbm = LGBMClassifier(random_state=2022)"
   ]
  },
  {
   "cell_type": "code",
   "execution_count": 43,
   "metadata": {
    "id": "J-zashLGyK4H"
   },
   "outputs": [],
   "source": [
    "# 성능예측\n",
    "cv_score = cross_val_score(lgbm, X_train, y_train, cv=10)"
   ]
  },
  {
   "cell_type": "code",
   "execution_count": 44,
   "metadata": {},
   "outputs": [
    {
     "data": {
      "text/plain": [
       "0.6963571428571429"
      ]
     },
     "execution_count": 44,
     "metadata": {},
     "output_type": "execute_result"
    }
   ],
   "source": [
    "# 결과확인\n",
    "cv_score.mean()"
   ]
  },
  {
   "cell_type": "code",
   "execution_count": 45,
   "metadata": {
    "colab": {
     "base_uri": "https://localhost:8080/"
    },
    "executionInfo": {
     "elapsed": 22,
     "status": "ok",
     "timestamp": 1641475869551,
     "user": {
      "displayName": "Jangrae Lee",
      "photoUrl": "https://lh3.googleusercontent.com/a-/AOh14Gh1Pd8OuWJU2cv7uTt-fURrgvty7atx_Wtarmx0-A=s64",
      "userId": "08475661575434032088"
     },
     "user_tz": -540
    },
    "id": "2KMvCx_-yK4H",
    "outputId": "cadee159-ae22-418c-c940-b2dbfb7c986c"
   },
   "outputs": [],
   "source": [
    "# 결과수집\n",
    "result['LightGBM'] = cv_score.mean()"
   ]
  },
  {
   "cell_type": "markdown",
   "metadata": {},
   "source": [
    "# 5.결과 확인\n",
    "\n",
    "- 예측된 각 모델의 성능을 비교합니다."
   ]
  },
  {
   "cell_type": "code",
   "execution_count": 46,
   "metadata": {},
   "outputs": [
    {
     "name": "stdout",
     "output_type": "stream",
     "text": [
      "========================================\n",
      "KNN 0.604\n",
      "Decision Tree 0.609\n",
      "Random Forest 0.686\n",
      "XGBoost 0.68\n",
      "LightGBM 0.696\n",
      "========================================\n"
     ]
    }
   ],
   "source": [
    "# 성능 비교\n",
    "print('=' * 40)\n",
    "for m_name, score in result.items():\n",
    "    print(m_name, score.round(3))\n",
    "print('=' * 40)"
   ]
  },
  {
   "cell_type": "code",
   "execution_count": 47,
   "metadata": {},
   "outputs": [
    {
     "data": {
      "image/png": "[encoded data removed]",
      "text/plain": [
       "<Figure size 432x288 with 1 Axes>"
      ]
     },
     "metadata": {
      "image/png": {
       "height": 248,
       "width": 431
      },
      "needs_background": "light"
     },
     "output_type": "display_data"
    }
   ],
   "source": [
    "# 성능 시각화 비교\n",
    "plt.barh(list(result.keys()), result.values())\n",
    "plt.show()"
   ]
  },
  {
   "cell_type": "markdown",
   "metadata": {},
   "source": [
    "# 6.성능 튜닝\n",
    "\n",
    "- 위에서 성능이 가장 좋을 것으로 예측된 모델을 튜닝합니다.\n",
    "- 본 실습에서는 LightGBM 모델 성능을 튜닝합니다."
   ]
  },
  {
   "cell_type": "code",
   "execution_count": 71,
   "metadata": {},
   "outputs": [],
   "source": [
    "# 기본 모델 선언\n",
    "lgbm = LGBMClassifier(n_estimators=110,random_state=2022)\n",
    "\n",
    "# 파라미터 지정\n",
    "  # max_depth: range(1, 21)\n",
    "params = {'max_depth':range(1,21)}\n",
    "\n",
    "# 모델 선언\n",
    "\n",
    "model = GridSearchCV(lgbm,\n",
    "                     params,\n",
    "                     cv=10,\n",
    "                     scoring='accuracy')"
   ]
  },
  {
   "cell_type": "code",
   "execution_count": 73,
   "metadata": {},
   "outputs": [
    {
     "data": {
      "text/html": [
       "<style>#sk-container-id-4 {color: black;background-color: white;}#sk-container-id-4 pre{padding: 0;}#sk-container-id-4 div.sk-toggleable {background-color: white;}#sk-container-id-4 label.sk-toggleable__label {cursor: pointer;display: block;width: 100%;margin-bottom: 0;padding: 0.3em;box-sizing: border-box;text-align: center;}#sk-container-id-4 label.sk-toggleable__label-arrow:before {content: \"▸\";float: left;margin-right: 0.25em;color: #696969;}#sk-container-id-4 label.sk-toggleable__label-arrow:hover:before {color: black;}#sk-container-id-4 div.sk-estimator:hover label.sk-toggleable__label-arrow:before {color: black;}#sk-container-id-4 div.sk-toggleable__content {max-height: 0;max-width: 0;overflow: hidden;text-align: left;background-color: #f0f8ff;}#sk-container-id-4 div.sk-toggleable__content pre {margin: 0.2em;color: black;border-radius: 0.25em;background-color: #f0f8ff;}#sk-container-id-4 input.sk-toggleable__control:checked~div.sk-toggleable__content {max-height: 200px;max-width: 100%;overflow: auto;}#sk-container-id-4 input.sk-toggleable__control:checked~label.sk-toggleable__label-arrow:before {content: \"▾\";}#sk-container-id-4 div.sk-estimator input.sk-toggleable__control:checked~label.sk-toggleable__label {background-color: #d4ebff;}#sk-container-id-4 div.sk-label input.sk-toggleable__control:checked~label.sk-toggleable__label {background-color: #d4ebff;}#sk-container-id-4 input.sk-hidden--visually {border: 0;clip: rect(1px 1px 1px 1px);clip: rect(1px, 1px, 1px, 1px);height: 1px;margin: -1px;overflow: hidden;padding: 0;position: absolute;width: 1px;}#sk-container-id-4 div.sk-estimator {font-family: monospace;background-color: #f0f8ff;border: 1px dotted black;border-radius: 0.25em;box-sizing: border-box;margin-bottom: 0.5em;}#sk-container-id-4 div.sk-estimator:hover {background-color: #d4ebff;}#sk-container-id-4 div.sk-parallel-item::after {content: \"\";width: 100%;border-bottom: 1px solid gray;flex-grow: 1;}#sk-container-id-4 div.sk-label:hover label.sk-toggleable__label {background-color: #d4ebff;}#sk-container-id-4 div.sk-serial::before {content: \"\";position: absolute;border-left: 1px solid gray;box-sizing: border-box;top: 0;bottom: 0;left: 50%;z-index: 0;}#sk-container-id-4 div.sk-serial {display: flex;flex-direction: column;align-items: center;background-color: white;padding-right: 0.2em;padding-left: 0.2em;position: relative;}#sk-container-id-4 div.sk-item {position: relative;z-index: 1;}#sk-container-id-4 div.sk-parallel {display: flex;align-items: stretch;justify-content: center;background-color: white;position: relative;}#sk-container-id-4 div.sk-item::before, #sk-container-id-4 div.sk-parallel-item::before {content: \"\";position: absolute;border-left: 1px solid gray;box-sizing: border-box;top: 0;bottom: 0;left: 50%;z-index: -1;}#sk-container-id-4 div.sk-parallel-item {display: flex;flex-direction: column;z-index: 1;position: relative;background-color: white;}#sk-container-id-4 div.sk-parallel-item:first-child::after {align-self: flex-end;width: 50%;}#sk-container-id-4 div.sk-parallel-item:last-child::after {align-self: flex-start;width: 50%;}#sk-container-id-4 div.sk-parallel-item:only-child::after {width: 0;}#sk-container-id-4 div.sk-dashed-wrapped {border: 1px dashed gray;margin: 0 0.4em 0.5em 0.4em;box-sizing: border-box;padding-bottom: 0.4em;background-color: white;}#sk-container-id-4 div.sk-label label {font-family: monospace;font-weight: bold;display: inline-block;line-height: 1.2em;}#sk-container-id-4 div.sk-label-container {text-align: center;}#sk-container-id-4 div.sk-container {/* jupyter's `normalize.less` sets `[hidden] { display: none; }` but bootstrap.min.css set `[hidden] { display: none !important; }` so we also need the `!important` here to be able to override the default hidden behavior on the sphinx rendered scikit-learn.org. See: https://github.com/scikit-learn/scikit-learn/issues/21755 */display: inline-block !important;position: relative;}#sk-container-id-4 div.sk-text-repr-fallback {display: none;}</style><div id=\"sk-container-id-4\" class=\"sk-top-container\"><div class=\"sk-text-repr-fallback\"><pre>GridSearchCV(cv=10,\n",
       "             estimator=LGBMClassifier(n_estimators=110, random_state=2022),\n",
       "             param_grid={&#x27;max_depth&#x27;: range(1, 21)}, scoring=&#x27;accuracy&#x27;)</pre><b>In a Jupyter environment, please rerun this cell to show the HTML representation or trust the notebook. <br />On GitHub, the HTML representation is unable to render, please try loading this page with nbviewer.org.</b></div><div class=\"sk-container\" hidden><div class=\"sk-item sk-dashed-wrapped\"><div class=\"sk-label-container\"><div class=\"sk-label sk-toggleable\"><input class=\"sk-toggleable__control sk-hidden--visually\" id=\"sk-estimator-id-10\" type=\"checkbox\" ><label for=\"sk-estimator-id-10\" class=\"sk-toggleable__label sk-toggleable__label-arrow\">GridSearchCV</label><div class=\"sk-toggleable__content\"><pre>GridSearchCV(cv=10,\n",
       "             estimator=LGBMClassifier(n_estimators=110, random_state=2022),\n",
       "             param_grid={&#x27;max_depth&#x27;: range(1, 21)}, scoring=&#x27;accuracy&#x27;)</pre></div></div></div><div class=\"sk-parallel\"><div class=\"sk-parallel-item\"><div class=\"sk-item\"><div class=\"sk-label-container\"><div class=\"sk-label sk-toggleable\"><input class=\"sk-toggleable__control sk-hidden--visually\" id=\"sk-estimator-id-11\" type=\"checkbox\" ><label for=\"sk-estimator-id-11\" class=\"sk-toggleable__label sk-toggleable__label-arrow\">estimator: LGBMClassifier</label><div class=\"sk-toggleable__content\"><pre>LGBMClassifier(n_estimators=110, random_state=2022)</pre></div></div></div><div class=\"sk-serial\"><div class=\"sk-item\"><div class=\"sk-estimator sk-toggleable\"><input class=\"sk-toggleable__control sk-hidden--visually\" id=\"sk-estimator-id-12\" type=\"checkbox\" ><label for=\"sk-estimator-id-12\" class=\"sk-toggleable__label sk-toggleable__label-arrow\">LGBMClassifier</label><div class=\"sk-toggleable__content\"><pre>LGBMClassifier(n_estimators=110, random_state=2022)</pre></div></div></div></div></div></div></div></div></div></div>"
      ],
      "text/plain": [
       "GridSearchCV(cv=10,\n",
       "             estimator=LGBMClassifier(n_estimators=110, random_state=2022),\n",
       "             param_grid={'max_depth': range(1, 21)}, scoring='accuracy')"
      ]
     },
     "execution_count": 73,
     "metadata": {},
     "output_type": "execute_result"
    }
   ],
   "source": [
    "# 학습하기(많은 시간이 소요될 수 있음)\n",
    "model.fit(X_train,y_train)"
   ]
  },
  {
   "cell_type": "code",
   "execution_count": 74,
   "metadata": {},
   "outputs": [
    {
     "name": "stdout",
     "output_type": "stream",
     "text": [
      "{'max_depth': 17}\n",
      "0.6965\n"
     ]
    }
   ],
   "source": [
    "# 최적 파라미터, 예측 최고 성능\n",
    "print(model.best_params_)\n",
    "print(model.best_score_)"
   ]
  },
  {
   "cell_type": "code",
   "execution_count": 75,
   "metadata": {},
   "outputs": [
    {
     "data": {
      "image/png": "[encoded data removed]",
      "text/plain": [
       "<Figure size 432x288 with 1 Axes>"
      ]
     },
     "metadata": {
      "image/png": {
       "height": 248,
       "width": 603
      },
      "needs_background": "light"
     },
     "output_type": "display_data"
    }
   ],
   "source": [
    "# 변수 중요도 확인\n",
    "plt.barh(list(X), model.best_estimator_.feature_importances_)\n",
    "plt.show()"
   ]
  },
  {
   "cell_type": "markdown",
   "metadata": {},
   "source": [
    "# 7.성능 평가\n",
    "\n",
    "- 최적 파라미터로 학습된 모델에 대해 최종 성능 평가를 진행합니다."
   ]
  },
  {
   "cell_type": "code",
   "execution_count": 69,
   "metadata": {},
   "outputs": [],
   "source": [
    "# 예측하기\n",
    "y_pred = model.predict(X_test)"
   ]
  },
  {
   "cell_type": "code",
   "execution_count": 70,
   "metadata": {},
   "outputs": [
    {
     "name": "stdout",
     "output_type": "stream",
     "text": [
      "[[2053 1023]\n",
      " [ 802 2122]]\n",
      "              precision    recall  f1-score   support\n",
      "\n",
      "           0       0.72      0.67      0.69      3076\n",
      "           1       0.67      0.73      0.70      2924\n",
      "\n",
      "    accuracy                           0.70      6000\n",
      "   macro avg       0.70      0.70      0.70      6000\n",
      "weighted avg       0.70      0.70      0.70      6000\n",
      "\n"
     ]
    }
   ],
   "source": [
    "# 성능평가\n",
    "print(confusion_matrix(y_test, y_pred))\n",
    "print(classification_report(y_test, y_pred))"
   ]
  },
  {
   "cell_type": "code",
   "execution_count": null,
   "metadata": {},
   "outputs": [],
   "source": []
  }
 ],
 "metadata": {
  "colab": {
   "collapsed_sections": [],
   "name": "실습06_01_앙상블(Iris).ipynb",
   "provenance": [],
   "toc_visible": true
  },
  "kernelspec": {
   "display_name": "Python 3",
   "language": "python",
   "name": "python3"
  },
  "language_info": {
   "codemirror_mode": {
    "name": "ipython",
    "version": 3
   },
   "file_extension": ".py",
   "mimetype": "text/x-python",
   "name": "python",
   "nbconvert_exporter": "python",
   "pygments_lexer": "ipython3",
   "version": "3.8.8"
  }
 },
 "nbformat": 4,
 "nbformat_minor": 4
}
